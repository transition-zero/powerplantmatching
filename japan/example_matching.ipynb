{
 "cells": [
  {
   "cell_type": "markdown",
   "metadata": {},
   "source": [
    "# Example plant matching notebook"
   ]
  },
  {
   "cell_type": "code",
   "execution_count": null,
   "metadata": {},
   "outputs": [],
   "source": [
    "cd .."
   ]
  },
  {
   "cell_type": "markdown",
   "metadata": {},
   "source": [
    "Note: The functions to read in the japan asset datasets have some mistakes in them, this is because I chanhged them a lot (as well as the configs) while I was matching and so there is not a final clean version of the functions."
   ]
  },
  {
   "cell_type": "code",
   "execution_count": null,
   "metadata": {},
   "outputs": [],
   "source": [
    "%load_ext autoreload\n",
    "%autoreload 2\n",
    "\n",
    "import pandas as pd\n",
    "import yaml\n",
    "import ast\n",
    "import re\n",
    "import pandas_gbq as pd_gbq\n",
    "import geopandas as gpd\n",
    "import os\n",
    "\n",
    "pd.set_option('display.max_columns', None)"
   ]
  },
  {
   "cell_type": "code",
   "execution_count": null,
   "metadata": {},
   "outputs": [],
   "source": [
    "import powerplantmatching as ppm"
   ]
  },
  {
   "cell_type": "code",
   "execution_count": null,
   "metadata": {},
   "outputs": [],
   "source": [
    "def get_matches(config, source_1, source_2):\n",
    "    fp = os.path.join(os.path.expanduser(\"~\"), \".local\", \"share\", f\"powerplantmatching/data/out/{config['hash']}/Matched_{source_1}_{source_2}.csv\")\n",
    "    matched_df = pd.read_csv(fp)\n",
    "    matched_df = matched_df.iloc[2:]\n",
    "    matched_df.scores = matched_df.scores.astype(float)\n",
    "\n",
    "    print(f\"scores min: {matched_df.scores.min()}, max: {matched_df.scores.max()}\")\n",
    "\n",
    "    source_1_cols = [col for col in matched_df.columns if '.1' not in col]\n",
    "    source_2_cols = ['Unnamed: 0']+[col for col in matched_df.columns if '.1' in col] + ['scores']\n",
    "    if \"KITAMOTO\" in source_1:\n",
    "        name1 = 'KITAMOTO'\n",
    "        name2 = source_2\n",
    "    elif \"KITAMOTO\" in source_2:\n",
    "        name1 = source_1\n",
    "        name2 = 'KITAMOTO'\n",
    "    else:\n",
    "        name1 = source_1\n",
    "        name2 = source_2\n",
    "    matched_df = (pd.concat([matched_df[source_1_cols].assign(source=name1),\n",
    "    matched_df[source_2_cols].set_axis(source_1_cols, axis='columns').assign(source=name2)])\n",
    "    .rename(columns={'Unnamed: 0': 'id'}))\n",
    "    return matched_df.sort_values(['id', 'source'])\n",
    "\n",
    "def add_distance(df, match_index_col='id', source_1='KITAMOTO', source_2='GEM'):\n",
    "    df_kit = df[df.source==source_1]\n",
    "    gdf_kit = gpd.GeoDataFrame(df_kit, geometry=gpd.points_from_xy(df_kit.lon, df_kit.lat), crs='EPSG:4326')\n",
    "    df_fit = df[df.source==source_2]\n",
    "    gdf_fit = gpd.GeoDataFrame(df_fit, geometry=gpd.points_from_xy(df_fit.lon, df_fit.lat), crs='EPSG:4326')\n",
    "\n",
    "    gdf_fit = gdf_fit.to_crs(crs=32654)\n",
    "    gdf_kit = gdf_kit.to_crs(crs=32654)\n",
    "\n",
    "    gdf = gdf_fit.merge(gdf_kit, on=match_index_col, suffixes=('_fit', '_kit'))\n",
    "    gdf['distance_meters'] = gdf.apply(lambda row: row['geometry_fit'].distance(row['geometry_kit']), axis=1)\n",
    "\n",
    "    return df.merge(gdf[[match_index_col, 'distance_meters']], on=match_index_col)\n",
    "\n",
    "def save_new_mappings(new_matches, current_mappings_path, source_1, source_2):\n",
    "    if os.path.exists(current_mappings_path):\n",
    "        current_mappings = pd.read_csv(current_mappings_path)\n",
    "        print(\"Length of existing mappings:\", len(current_mappings))\n",
    "        # if source_1 not in current_mappings.columns or source_2 not in current_mappings.columns:\n",
    "        #     print(\"Error: Source columns not found in current mappings\")\n",
    "        #     return\n",
    "        # check that the new matches are not already in the current mappings\n",
    "        if not ((new_matches[source_1].isin(current_mappings[source_1]))|(new_matches[source_2].isin(current_mappings[source_2]))).any():\n",
    "            current_mappings = pd.concat([current_mappings, new_matches])\n",
    "            print(\"Length of updated mappings:\", len(current_mappings))\n",
    "            current_mappings.to_csv(current_mappings_path, index=False)\n",
    "        else:\n",
    "            print(\"Error: IDs in new matches found in current mappings\")\n",
    "    else:\n",
    "        print(\"File does not exist, creating new file\")\n",
    "        print(\"Length of new mappings:\", len(new_matches))\n",
    "        new_matches.to_csv(current_mappings_path, index=False)"
   ]
  },
  {
   "cell_type": "markdown",
   "metadata": {},
   "source": [
    "# Kitamoto and GEM matching\n",
    "\n",
    "This groups together all rows of data that belong to the same plant (this is not matching at the individual unit level)"
   ]
  },
  {
   "cell_type": "code",
   "execution_count": null,
   "metadata": {},
   "outputs": [],
   "source": [
    "with open('japan/configs/config_kitamoto_gem.yaml') as f:\n",
    "    config = yaml.safe_load(f)\n",
    "\n",
    "data = ppm.powerplants(config=config, update=True, fill_geopositions=False, filter_missing_geopositions=False)"
   ]
  },
  {
   "cell_type": "code",
   "execution_count": null,
   "metadata": {},
   "outputs": [],
   "source": [
    "# Ignore wierd naming of 'KITAMOTOGEM' this is because I had multiple Kitamoto functions in the data.py file\n",
    "\n",
    "matched_df = get_matches(config, 'GEM', 'KITAMOTOGEM')\n",
    "matched_df = add_distance(matched_df, match_index_col='id', source_1='KITAMOTO', source_2='GEM')"
   ]
  },
  {
   "cell_type": "markdown",
   "metadata": {},
   "source": [
    "- Automatically save matches with very high scores\n",
    "- The rest I would then save to a google sheet to validate them, then load matches back into my notebook"
   ]
  },
  {
   "cell_type": "code",
   "execution_count": null,
   "metadata": {},
   "outputs": [],
   "source": [
    "# e.g.\n",
    "validated = matched_df[matched_df.scores >= 0.995].copy()\n",
    "validated.projectID = validated.projectID.apply(lambda x: list(ast.literal_eval(x)))\n",
    "validated = validated.explode('projectID')\n",
    "\n",
    "\n",
    "matches = {}\n",
    "\n",
    "for i, gp in validated.groupby('id'):\n",
    "    v1 = gp[gp.source == 'KITAMOTO'].projectID.values[0]\n",
    "    v2 = gp[gp.source == 'GEM'].projectID.values\n",
    "    for val in v2:\n",
    "        matches[val] = v1\n",
    "\n",
    "new_matches = pd.DataFrame(matches.items(), columns=['GEM', 'KITAMOTO'])"
   ]
  },
  {
   "cell_type": "code",
   "execution_count": null,
   "metadata": {},
   "outputs": [],
   "source": [
    "# Save the validated matches\n",
    "current_mappings_path = config['current_mappings']\n",
    "print(\"Saving new matches to:\", current_mappings_path)\n",
    "save_new_mappings(new_matches, current_mappings_path, 'GEM', 'KITAMOTO')"
   ]
  },
  {
   "cell_type": "markdown",
   "metadata": {},
   "source": [
    "# Kitamoto and FIT matching"
   ]
  },
  {
   "cell_type": "markdown",
   "metadata": {},
   "source": [
    "FIT is a very large dataset so filter the config target technologies and admin-1s to match smaller portions of data at a time"
   ]
  },
  {
   "cell_type": "code",
   "execution_count": null,
   "metadata": {},
   "outputs": [],
   "source": [
    "with open('japan/configs/config_kitamoto_fit.yaml') as f:\n",
    "    config = yaml.safe_load(f)"
   ]
  },
  {
   "cell_type": "code",
   "execution_count": null,
   "metadata": {},
   "outputs": [],
   "source": [
    "# I also made it possible to not use data.py to load the data, but to instead pass dataframes to the main function\n",
    "\n",
    "def load_kitamoto_for_fit_matching(config):\n",
    "    data_config = config['KITAMOTO']\n",
    "\n",
    "    df = pd_gbq.read_gbq(f\"\"\"SELECT plant_name, business_name, asset_class, output_mw, latitude, longitude, admin_1, hash_id\n",
    "    FROM {data_config['bq_table']}\n",
    "    WHERE invalid_latlon = False\"\"\", project_id=config['gcp_project'])\n",
    "\n",
    "    df = df.rename(columns={'business_name':'Name', 'output_mw':'Capacity', 'latitude':'lat', 'longitude':'lon', 'hash_id':'projectID'})\n",
    "\n",
    "    df['Technology'] = df.asset_class.map(data_config['technology_map'])\n",
    "\n",
    "    # filter to target techs\n",
    "    df = df[df.Technology.isin(config['target_technologies'])]\n",
    "    # filter to target admin_1s\n",
    "    df = df[df.admin_1.isin(config['target_admin_1s'])]\n",
    "\n",
    "    if data_config[\"remove_matched_data\"]:\n",
    "        # logger.info(\"Removing already matched data from KITAMOTO\")\n",
    "        path = config[\"current_mappings\"]\n",
    "        if os.path.exists(path):\n",
    "            current_mappings = pd.read_csv(path)\n",
    "            df = df[~df[\"projectID\"].isin(current_mappings.KITAMOTO)]\n",
    "        else:\n",
    "            print(f\"Current mappings do not exist: {path}\")\n",
    "\n",
    "    if data_config[\"aggregate_units\"]:\n",
    "        # logger.info(\"Aggregating KITAMOTO units\")\n",
    "        df = df.groupby(['plant_name', 'Name', 'Technology']).agg({'Capacity': 'sum', 'projectID': set, 'lat': pd.Series.mean,\n",
    "                                            'lon': pd.Series.mean,\n",
    "                                            'admin_1': pd.Series.mode}).reset_index()\n",
    "\n",
    "    if data_config[\"clean_name\"]:\n",
    "        # logger.info(\"Cleaning KITAMOTO names\")\n",
    "        df = df.pipe(lambda x: ppm.cleaning.clean_name(x, config))\n",
    "\n",
    "    df = df[config[\"target_columns\"]]\n",
    "    df = df.pipe(ppm.cleaning.set_column_name, \"KITAMOTO\")\n",
    "\n",
    "    print(f\"KITAMOTO: {len(df)} projects\")\n",
    "\n",
    "    return df\n",
    "\n",
    "df_kitamoto = load_kitamoto_for_fit_matching(config)"
   ]
  },
  {
   "cell_type": "code",
   "execution_count": null,
   "metadata": {},
   "outputs": [],
   "source": [
    "df_fit = ppm.data.FIT(raw=False, update=True, config=config)"
   ]
  },
  {
   "cell_type": "code",
   "execution_count": null,
   "metadata": {},
   "outputs": [],
   "source": [
    "dfs = [df_kitamoto, df_fit]\n",
    "data = ppm.powerplants(config=config, update=True, fill_geopositions=False, filter_missing_geopositions=False, dfs=dfs)"
   ]
  },
  {
   "cell_type": "code",
   "execution_count": null,
   "metadata": {},
   "outputs": [],
   "source": [
    "matched_df = get_matches(config, 'FIT', 'KITAMOTO')\n",
    "matched_df = add_distance(matched_df, match_index_col='id', source_1='KITAMOTO', source_2='FIT')"
   ]
  },
  {
   "cell_type": "markdown",
   "metadata": {},
   "source": [
    "# Kitamoto, FIT, GEM, and HJKS matching"
   ]
  },
  {
   "cell_type": "markdown",
   "metadata": {},
   "source": [
    "Example of matching 4 sources at the same time"
   ]
  },
  {
   "cell_type": "code",
   "execution_count": null,
   "metadata": {},
   "outputs": [],
   "source": [
    "with open('japan/configs/config_all_four_sources.yaml') as f:\n",
    "    config = yaml.safe_load(f)\n",
    "\n",
    "df_fit = ppm.data.FIT_ALL(raw=False, update=True, config=config)\n",
    "df_kit = ppm.data.KITAMOTO_ALL(raw=False, update=True, config=config)\n",
    "df_hjks = ppm.data.HJKS_ALL(raw=False, update=True, config=config)\n",
    "df_gem = ppm.data.GEM_ALL(raw=False, update=True, config=config)"
   ]
  },
  {
   "cell_type": "code",
   "execution_count": null,
   "metadata": {},
   "outputs": [],
   "source": [
    "dfs = [df_fit, df_kit, df_hjks, df_gem]\n",
    "data = ppm.powerplants(config=config,\n",
    "                       update=True,\n",
    "                       fill_geopositions=False,\n",
    "                       filter_missing_geopositions=False,\n",
    "                       dfs=dfs,\n",
    "                       return_cross_matches=False)"
   ]
  },
  {
   "cell_type": "code",
   "execution_count": null,
   "metadata": {},
   "outputs": [],
   "source": [
    "data_cross_matched = ppm.powerplants(config=config,\n",
    "                                     update=True,\n",
    "                                     fill_geopositions=False,\n",
    "                                     filter_missing_geopositions=False,\n",
    "                                     dfs=dfs,\n",
    "                                     return_cross_matches=True)"
   ]
  }
 ],
 "metadata": {
  "kernelspec": {
   "display_name": "ppm2",
   "language": "python",
   "name": "python3"
  },
  "language_info": {
   "codemirror_mode": {
    "name": "ipython",
    "version": 3
   },
   "file_extension": ".py",
   "mimetype": "text/x-python",
   "name": "python",
   "nbconvert_exporter": "python",
   "pygments_lexer": "ipython3",
   "version": "3.11.3"
  }
 },
 "nbformat": 4,
 "nbformat_minor": 2
}
